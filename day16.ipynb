{
 "cells": [
  {
   "cell_type": "code",
   "execution_count": 6,
   "metadata": {
    "collapsed": true
   },
   "outputs": [],
   "source": [
    "import string"
   ]
  },
  {
   "cell_type": "code",
   "execution_count": 2,
   "metadata": {
    "collapsed": true
   },
   "outputs": [],
   "source": [
    "with open('day16.txt', 'r') as f:\n",
    "    dance_moves = f.read().split(',')"
   ]
  },
  {
   "cell_type": "code",
   "execution_count": 91,
   "metadata": {},
   "outputs": [],
   "source": [
    "   def task_1(moves, number_of_dancers=16):\n",
    "    dancers = list(string.ascii_lowercase[:number_of_dancers])\n",
    "    for move in moves:\n",
    "        if move[0] == 's':\n",
    "            how_many = int(move[1:])\n",
    "            dancers = dancers[-how_many:] + dancers[:-how_many]\n",
    "        elif move[0] == 'x':  \n",
    "#             move knowing indices\n",
    "            a, b = move[1:].split('/')\n",
    "            a, b = int(a), int(b)\n",
    "            dancers[a], dancers[b] = dancers[b], dancers[a]\n",
    "        elif move[0] == 'p':\n",
    "#             move knowing names\n",
    "            a, b = move[1:].split('/')\n",
    "            a, b = dancers.index(a), dancers.index(b)\n",
    "            dancers[a], dancers[b] = dancers[b], dancers[a]\n",
    "#             pass\n",
    "        else:\n",
    "            print ValueError(move)\n",
    "            \n",
    "    return ''.join(dancers)"
   ]
  },
  {
   "cell_type": "code",
   "execution_count": 89,
   "metadata": {},
   "outputs": [],
   "source": [
    "d1i = \"s1,x3/4,pe/b\".split(',')\n",
    "d1a = 'baedc'"
   ]
  },
  {
   "cell_type": "code",
   "execution_count": 55,
   "metadata": {},
   "outputs": [
    {
     "name": "stdout",
     "output_type": "stream",
     "text": [
      "True\n",
      "glnacbhedpfjkiom\n"
     ]
    }
   ],
   "source": [
    "print task_1(d1i, 5) == d1a\n",
    "print task_1(dance_moves)"
   ]
  },
  {
   "cell_type": "markdown",
   "metadata": {},
   "source": [
    "# task_2\n",
    "\n",
    "```\n",
    "1 2 3 4 5 6 7 8 9 10 11 12 13 14 15 16\n",
    "a b c d e f g h i j  k  l  m  n  o  p \n",
    "g l n a c b h e d p  f  j  k  i  o  m\n",
    "\n",
    "a -> g, b -> l,  c -> n,  d -> a, e -> c, f -> b, g -> h, h -> e\n",
    "1 -> 7, 2 -> 12, 3 -> 14, 4 -> 1, 5 -> 3, 6 -> 2, 7 -> 8, 8 -> 5\n",
    "\n",
    "i -> d, j -> p,   k -> f,  l -> j,   m -> k,   n -> i,  o -> o,   p -> m\n",
    "9 -> 4, 10 -> 16, 11 -> 6, 12 -> 10, 13 -> 11, 14 -> 9, 15 -> 15, 16 -> 13\n",
    "\n",
    "1 -> 7  -> 8  -> 5  -> 3  -> 14 -> 9 -> 4 -> 1  | length 8 (after 8 rounds we're back where we were)\n",
    "2 -> 12 -> 10 -> 16 -> 13 -> 11 -> 6 -> 2       | length 7\n",
    "15 -> 15                                        | length 1\n",
    "\n",
    "a -> g -> h -> e -> c -> n -> i -> d -> a  | length 8 (after 8 rounds we're back where we were)\n",
    "b -> l -> j -> p -> m -> k -> f -> b       | length 7\n",
    "o -> o                                     | length 1\n",
    "\n",
    "2nd after 6 moves\n",
    "b -> f -> k -> m -> p -> j -> l -> b\n",
    "```"
   ]
  },
  {
   "cell_type": "code",
   "execution_count": 59,
   "metadata": {},
   "outputs": [
    {
     "name": "stdout",
     "output_type": "stream",
     "text": [
      "first_cycle 0\n",
      "second_cycle 6\n"
     ]
    }
   ],
   "source": [
    "one_billion = 1000000000\n",
    "first_cycle = one_billion % 8\n",
    "second_cycle = one_billion % 7\n",
    "print 'first_cycle', first_cycle\n",
    "print 'second_cycle', second_cycle"
   ]
  },
  {
   "cell_type": "code",
   "execution_count": 82,
   "metadata": {},
   "outputs": [
    {
     "name": "stdout",
     "output_type": "stream",
     "text": [
      "iomljcbdfnkhpgea\n"
     ]
    }
   ],
   "source": [
    "print task_1(2*dance_moves)"
   ]
  },
  {
   "cell_type": "code",
   "execution_count": 72,
   "metadata": {},
   "outputs": [
    {
     "name": "stdout",
     "output_type": "stream",
     "text": [
      "abcdefghijklmnop\n",
      "glnacbhedpfjkiom\n",
      "ofembadgpjicknlh\n",
      "gfibkjmhdoplecan\n",
      "kmiablpehjoncgdf\n",
      "ghlmfopdbakcjein\n",
      "cgajboehmnflpkdi\n",
      "dobahmcefligjkpn\n",
      "egkmjhnbfipcolda\n",
      "pkbnmdfheioljacg\n",
      "pgfaoinecmkdhjbl\n"
     ]
    },
    {
     "ename": "MemoryError",
     "evalue": "",
     "output_type": "error",
     "traceback": [
      "\u001b[0;31m---------------------------------------------------------------------------\u001b[0m",
      "\u001b[0;31mMemoryError\u001b[0m                               Traceback (most recent call last)",
      "\u001b[0;32m<ipython-input-72-04a22c9e937e>\u001b[0m in \u001b[0;36m<module>\u001b[0;34m()\u001b[0m\n\u001b[1;32m     10\u001b[0m \u001b[0;32mprint\u001b[0m \u001b[0mtask_1\u001b[0m\u001b[0;34m(\u001b[0m\u001b[0;36m9\u001b[0m\u001b[0;34m*\u001b[0m\u001b[0mdance_moves\u001b[0m\u001b[0;34m)\u001b[0m\u001b[0;34m\u001b[0m\u001b[0m\n\u001b[1;32m     11\u001b[0m \u001b[0;32mprint\u001b[0m \u001b[0mtask_1\u001b[0m\u001b[0;34m(\u001b[0m\u001b[0;36m10\u001b[0m\u001b[0;34m*\u001b[0m\u001b[0mdance_moves\u001b[0m\u001b[0;34m)\u001b[0m\u001b[0;34m\u001b[0m\u001b[0m\n\u001b[0;32m---> 12\u001b[0;31m \u001b[0;32mprint\u001b[0m \u001b[0mtask_1\u001b[0m\u001b[0;34m(\u001b[0m\u001b[0mone_billion\u001b[0m\u001b[0;34m*\u001b[0m\u001b[0mdance_moves\u001b[0m\u001b[0;34m)\u001b[0m\u001b[0;34m\u001b[0m\u001b[0m\n\u001b[0m",
      "\u001b[0;31mMemoryError\u001b[0m: "
     ]
    }
   ],
   "source": [
    "print string.ascii_lowercase[:16]\n",
    "print task_1(dance_moves)\n",
    "print task_1(2*dance_moves)\n",
    "print task_1(3*dance_moves)\n",
    "print task_1(4*dance_moves)\n",
    "print task_1(5*dance_moves)\n",
    "print task_1(6*dance_moves)\n",
    "print task_1(7*dance_moves)\n",
    "print task_1(8*dance_moves)\n",
    "print task_1(9*dance_moves)\n",
    "print task_1(10*dance_moves)\n",
    "print task_1(one_billion*dance_moves)\n"
   ]
  },
  {
   "cell_type": "markdown",
   "metadata": {},
   "source": [
    "```\n",
    "after one billion times first cycle doesn't change, last cycle never changes\n",
    "second cycle makes 6 moves:\n",
    "2 -> 6 -> 11 -> 13 -> 16 -> 10 -> 12 -> 2\n",
    "b -> f -> k  -> m  -> p  -> j  -> l  -> b\n",
    "\n",
    "therefore:\n",
    "a b c d e f g h i j k l m n o p\n",
    "changes into\n",
    "a f c d e k g h i l m b p n o j \n",
    "```"
   ]
  },
  {
   "cell_type": "code",
   "execution_count": 75,
   "metadata": {},
   "outputs": [
    {
     "data": {
      "text/plain": [
       "1000"
      ]
     },
     "execution_count": 75,
     "metadata": {},
     "output_type": "execute_result"
    }
   ],
   "source": [
    "one_billion / 1000000"
   ]
  },
  {
   "cell_type": "code",
   "execution_count": 113,
   "metadata": {},
   "outputs": [],
   "source": [
    "def task_2(moves, number_of_dancers=16, number_of_dances=1000000000):\n",
    "    dancers = list(string.ascii_lowercase[:number_of_dancers])\n",
    "    \n",
    "    for i in xrange(number_of_dances):\n",
    "        for move in moves:\n",
    "            if move[0] == 's':\n",
    "                how_many = int(move[1:])\n",
    "                dancers = dancers[-how_many:] + dancers[:-how_many]\n",
    "\n",
    "            elif move[0] == 'x':        \n",
    "                # move knowing indices\n",
    "                a, b = move[1:].split('/')\n",
    "                a, b = int(a), int(b)\n",
    "                dancers[a], dancers[b] = dancers[b], dancers[a]\n",
    "            elif move[0] == 'p':\n",
    "                # move knowing names\n",
    "                a, b = move[1:].split('/')\n",
    "                a, b = dancers.index(a), dancers.index(b)\n",
    "                dancers[a], dancers[b] = dancers[b], dancers[a]\n",
    "            else:\n",
    "                print ValueError(move)\n",
    "        \n",
    "        if i%2 == 1:\n",
    "            print ''.join(dancers)\n",
    "            \n",
    "    return ''.join(dancers)"
   ]
  },
  {
   "cell_type": "code",
   "execution_count": 118,
   "metadata": {},
   "outputs": [
    {
     "name": "stdout",
     "output_type": "stream",
     "text": [
      "ofembadgpjicknlh\n",
      "kmiablpehjoncgdf\n",
      "cgajboehmnflpkdi\n",
      "egkmjhnbfipcolda\n",
      "pgfaoinecmkdhjbl\n",
      "adcgepnhobilmjfk\n",
      "fpemdagnkbocijlh\n",
      "npodibmhgfklecaj\n"
     ]
    }
   ],
   "source": [
    "print task_2(dance_moves, number_of_dances=15, number_of_dancers=16)"
   ]
  },
  {
   "cell_type": "code",
   "execution_count": 119,
   "metadata": {},
   "outputs": [
    {
     "name": "stdout",
     "output_type": "stream",
     "text": [
      "npodibmhgfklecaj\n"
     ]
    }
   ],
   "source": [
    "print task_1(dance_moves*15)"
   ]
  },
  {
   "cell_type": "code",
   "execution_count": null,
   "metadata": {
    "collapsed": true
   },
   "outputs": [],
   "source": []
  }
 ],
 "metadata": {
  "kernelspec": {
   "display_name": "Python [default]",
   "language": "python",
   "name": "python2"
  },
  "language_info": {
   "codemirror_mode": {
    "name": "ipython",
    "version": 2
   },
   "file_extension": ".py",
   "mimetype": "text/x-python",
   "name": "python",
   "nbconvert_exporter": "python",
   "pygments_lexer": "ipython2",
   "version": "2.7.13"
  }
 },
 "nbformat": 4,
 "nbformat_minor": 2
}
