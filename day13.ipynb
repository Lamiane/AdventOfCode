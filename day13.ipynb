{
 "cells": [
  {
   "cell_type": "code",
   "execution_count": 13,
   "metadata": {
    "collapsed": true
   },
   "outputs": [],
   "source": [
    "with open('day13.txt', 'r') as f:\n",
    "    puzzle_input = f.read()"
   ]
  },
  {
   "cell_type": "code",
   "execution_count": 6,
   "metadata": {
    "collapsed": true
   },
   "outputs": [],
   "source": [
    "def task_1(scanners):\n",
    "    severity = 0\n",
    "    for line in scanners.split('\\n'):\n",
    "        layer, layer_range = line.split(':')\n",
    "        layer = int(layer)\n",
    "        layer_range = int(layer_range)\n",
    "        gap = 2 + 2*(layer_range-2)\n",
    "        if layer % gap == 0:\n",
    "            severity += layer * layer_range\n",
    "    return severity"
   ]
  },
  {
   "cell_type": "code",
   "execution_count": 7,
   "metadata": {
    "collapsed": true
   },
   "outputs": [],
   "source": [
    "d1i = \"\"\"0: 3\n",
    "1: 2\n",
    "4: 4\n",
    "6: 4\"\"\"\n",
    "d1a = 24"
   ]
  },
  {
   "cell_type": "code",
   "execution_count": 14,
   "metadata": {},
   "outputs": [
    {
     "name": "stdout",
     "output_type": "stream",
     "text": [
      "24\n",
      "2688\n"
     ]
    }
   ],
   "source": [
    "print task_1(d1i)\n",
    "print task_1(puzzle_input)"
   ]
  },
  {
   "cell_type": "code",
   "execution_count": 35,
   "metadata": {
    "collapsed": true
   },
   "outputs": [],
   "source": [
    "def task_2(scanners):\n",
    "    was_caught = True  # to start\n",
    "    picoseconds = -1  # easing implementation\n",
    "    while was_caught:\n",
    "        was_caught = False\n",
    "        picoseconds += 1\n",
    "        \n",
    "        for line in scanners.split('\\n'):\n",
    "            layer, layer_range = line.split(':')\n",
    "            layer = int(layer)\n",
    "            layer_range = int(layer_range)\n",
    "            gap = 2 + 2*(layer_range-2)\n",
    "            if (layer+picoseconds) % gap == 0:\n",
    "                was_caught = True\n",
    "                break\n",
    "    return picoseconds"
   ]
  },
  {
   "cell_type": "code",
   "execution_count": 37,
   "metadata": {},
   "outputs": [
    {
     "name": "stdout",
     "output_type": "stream",
     "text": [
      "10\n",
      "3876272\n"
     ]
    }
   ],
   "source": [
    "print task_2(d1i)\n",
    "print task_2(puzzle_input)"
   ]
  },
  {
   "cell_type": "code",
   "execution_count": null,
   "metadata": {
    "collapsed": true
   },
   "outputs": [],
   "source": []
  }
 ],
 "metadata": {
  "kernelspec": {
   "display_name": "Python [default]",
   "language": "python",
   "name": "python2"
  },
  "language_info": {
   "codemirror_mode": {
    "name": "ipython",
    "version": 2
   },
   "file_extension": ".py",
   "mimetype": "text/x-python",
   "name": "python",
   "nbconvert_exporter": "python",
   "pygments_lexer": "ipython2",
   "version": "2.7.13"
  }
 },
 "nbformat": 4,
 "nbformat_minor": 2
}
