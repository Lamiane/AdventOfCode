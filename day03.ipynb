{
 "cells": [
  {
   "cell_type": "code",
   "execution_count": 67,
   "metadata": {
    "collapsed": true
   },
   "outputs": [],
   "source": [
    "import numpy as np"
   ]
  },
  {
   "cell_type": "code",
   "execution_count": 64,
   "metadata": {},
   "outputs": [],
   "source": [
    "def task_1(number):\n",
    "    big_enough = 10000\n",
    "    counter = 0\n",
    "    for i in xrange(0, big_enough):\n",
    "        width = 2 * i + 1\n",
    "        if number <= width ** 2:\n",
    "            break\n",
    "    min_in_hull = (width-2)**2 + 1\n",
    "    c1 = min_in_hull + width - 2\n",
    "    c2 = c1 + width - 1\n",
    "    c3 = c2 + width - 1\n",
    "    c4 = c3 + width - 1\n",
    "    cut = [min_in_hull, c1, c2, c3, c4]\n",
    "    for i in range(len(cut)):\n",
    "        if number < cut[i]:\n",
    "            first_bigger = cut[i]\n",
    "            break\n",
    "    diff = first_bigger - number\n",
    "    if diff > width/2:\n",
    "        hull_steps = diff - width/2\n",
    "    else:\n",
    "        hull_steps = diff\n",
    "    outer_steps = (width-1)/2\n",
    "    return outer_steps+hull_steps"
   ]
  },
  {
   "cell_type": "code",
   "execution_count": 65,
   "metadata": {},
   "outputs": [
    {
     "name": "stdout",
     "output_type": "stream",
     "text": [
      "5\n",
      "3\n"
     ]
    }
   ],
   "source": [
    "print task_1(10)"
   ]
  },
  {
   "cell_type": "code",
   "execution_count": 66,
   "metadata": {},
   "outputs": [
    {
     "name": "stdout",
     "output_type": "stream",
     "text": [
      "571\n",
      "552\n"
     ]
    }
   ],
   "source": [
    "print task_1(325489)"
   ]
  },
  {
   "cell_type": "code",
   "execution_count": 131,
   "metadata": {},
   "outputs": [],
   "source": [
    "# I don't have any nice idea apart from the fact that the numbers should grow rather quickly...\n",
    "def task_2(number):\n",
    "    right = (0, 1)  # rows before cols\n",
    "    left = (0, -1)\n",
    "    up = (-1, 0)\n",
    "    down = (1, 0)\n",
    "    big_enough = 11\n",
    "    current_point = (big_enough, big_enough)\n",
    "    table = np.zeros(shape=(2 * big_enough + 1, 2 * big_enough + 1), dtype=np.int)\n",
    "    table[current_point] = 1\n",
    "    for i in xrange(1, big_enough-1):\n",
    "        width = 2 * i + 1        \n",
    "        steps = [right] + (width-2) * [up] + (width-1) * [left] + (width-1) * [down] + (width-1) * [right]\n",
    "        for s in steps:\n",
    "            current_point = tuple(np.array(current_point) + np.array(s))\n",
    "            sum_neighbours = np.sum(table[current_point[0]-1:current_point[0]+2, current_point[1]-1:current_point[1]+2]) \n",
    "            table[current_point] = sum_neighbours\n",
    "            if sum_neighbours > number:\n",
    "                return sum_neighbours\n",
    "    return \"bad luck\", sum_neighbours"
   ]
  },
  {
   "cell_type": "code",
   "execution_count": 132,
   "metadata": {},
   "outputs": [
    {
     "name": "stdout",
     "output_type": "stream",
     "text": [
      "330785\n"
     ]
    }
   ],
   "source": [
    "pprint(task_2(325489))"
   ]
  }
 ],
 "metadata": {
  "kernelspec": {
   "display_name": "Python [default]",
   "language": "python",
   "name": "python2"
  },
  "language_info": {
   "codemirror_mode": {
    "name": "ipython",
    "version": 2
   },
   "file_extension": ".py",
   "mimetype": "text/x-python",
   "name": "python",
   "nbconvert_exporter": "python",
   "pygments_lexer": "ipython2",
   "version": "2.7.13"
  }
 },
 "nbformat": 4,
 "nbformat_minor": 2
}
