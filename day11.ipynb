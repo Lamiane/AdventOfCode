{
 "cells": [
  {
   "cell_type": "code",
   "execution_count": 3,
   "metadata": {
    "collapsed": true
   },
   "outputs": [],
   "source": [
    "from collections import Counter\n",
    "with open('day11.txt', 'r') as f:\n",
    "    path = f.read().split(',')\n"
   ]
  },
  {
   "cell_type": "code",
   "execution_count": 13,
   "metadata": {},
   "outputs": [],
   "source": [
    "def task_1(p):\n",
    "    NE = 'ne'\n",
    "    NW = 'nw'\n",
    "    SE = 'se'\n",
    "    SW = 'sw'\n",
    "    N = 'n'\n",
    "    S = 's'\n",
    "    directions = Counter(p)\n",
    "    for up, down in ((NE, SW), (NW, SE), (N, S)):\n",
    "        if directions[up] > directions[down]:\n",
    "            directions[up] -= directions[down]\n",
    "            directions[down] = 0\n",
    "        else:\n",
    "            directions[down] -= directions[up]\n",
    "            directions[up] = 0\n",
    "    print directions"
   ]
  },
  {
   "cell_type": "code",
   "execution_count": 14,
   "metadata": {},
   "outputs": [
    {
     "name": "stdout",
     "output_type": "stream",
     "text": [
      "Counter({'s': 512, 'se': 365, 'sw': 36, 'ne': 0, 'n': 0, 'nw': 0})\n"
     ]
    }
   ],
   "source": [
    "task_1(path)"
   ]
  },
  {
   "cell_type": "code",
   "execution_count": null,
   "metadata": {
    "collapsed": true
   },
   "outputs": [],
   "source": []
  }
 ],
 "metadata": {
  "kernelspec": {
   "display_name": "Python [default]",
   "language": "python",
   "name": "python2"
  },
  "language_info": {
   "codemirror_mode": {
    "name": "ipython",
    "version": 2
   },
   "file_extension": ".py",
   "mimetype": "text/x-python",
   "name": "python",
   "nbconvert_exporter": "python",
   "pygments_lexer": "ipython2",
   "version": "2.7.13"
  }
 },
 "nbformat": 4,
 "nbformat_minor": 2
}
