{
 "cells": [
  {
   "cell_type": "code",
   "execution_count": 7,
   "metadata": {},
   "outputs": [],
   "source": [
    "import numpy as np\n",
    "memory_banks = \"0\t5\t10\t0\t11\t14\t13\t4\t11\t8\t8\t7\t1\t4\t12\t11\"\n",
    "memory_banks = np.array([int(i) for i in memory_banks.split()])"
   ]
  },
  {
   "cell_type": "code",
   "execution_count": 8,
   "metadata": {},
   "outputs": [],
   "source": [
    "def task_1(mem_banks):\n",
    "    redistributions = 0\n",
    "    configurations = [tuple(mem_banks)]\n",
    "    while True:\n",
    "        biggest_bank = np.argmax(mem_banks)\n",
    "        biggest_bank_size = mem_banks[biggest_bank]\n",
    "        mem_banks[biggest_bank] = 0  # remove the blocks\n",
    "        bigger_update = (biggest_bank_size / len(mem_banks)) + 1\n",
    "        how_many_get_bigger = biggest_bank_size % len(mem_banks) \n",
    "        smaller_update = bigger_update - 1\n",
    "        how_many_get_smaller = (biggest_bank_size - (how_many_get_bigger * bigger_update)) / smaller_update\n",
    "        for i in range(biggest_bank+1, biggest_bank+how_many_get_bigger+1):\n",
    "            mem_banks[i % len(mem_banks)] += bigger_update\n",
    "            \n",
    "        for i in range(biggest_bank+how_many_get_bigger+1, biggest_bank+how_many_get_bigger+1+how_many_get_smaller):\n",
    "            mem_banks[i % len(mem_banks)] += smaller_update\n",
    "            \n",
    "        redistributions += 1\n",
    "        if tuple(mem_banks) not in configurations:\n",
    "            configurations.append(tuple(mem_banks))\n",
    "        else:\n",
    "            return redistributions"
   ]
  },
  {
   "cell_type": "code",
   "execution_count": 9,
   "metadata": {},
   "outputs": [
    {
     "name": "stdout",
     "output_type": "stream",
     "text": [
      "5\n"
     ]
    },
    {
     "name": "stderr",
     "output_type": "stream",
     "text": [
      "/home/pocha/libs/anaconda2/lib/python2.7/site-packages/ipykernel/__main__.py:12: RuntimeWarning: divide by zero encountered in long_scalars\n"
     ]
    }
   ],
   "source": [
    "print task_1(np.array([0,2,7,0]))"
   ]
  },
  {
   "cell_type": "code",
   "execution_count": 10,
   "metadata": {},
   "outputs": [
    {
     "name": "stderr",
     "output_type": "stream",
     "text": [
      "/home/pocha/libs/anaconda2/lib/python2.7/site-packages/ipykernel/__main__.py:12: RuntimeWarning: divide by zero encountered in long_scalars\n"
     ]
    },
    {
     "name": "stdout",
     "output_type": "stream",
     "text": [
      "7864\n"
     ]
    }
   ],
   "source": [
    "print task_1(memory_banks)"
   ]
  },
  {
   "cell_type": "code",
   "execution_count": 22,
   "metadata": {},
   "outputs": [],
   "source": [
    "def task_2(mem_banks):\n",
    "    configurations = [tuple(mem_banks)]\n",
    "    while True:\n",
    "        biggest_bank = np.argmax(mem_banks)\n",
    "        biggest_bank_size = mem_banks[biggest_bank]\n",
    "        mem_banks[biggest_bank] = 0  # remove the blocks\n",
    "        bigger_update = (biggest_bank_size / len(mem_banks)) + 1\n",
    "        how_many_get_bigger = biggest_bank_size % len(mem_banks) \n",
    "        smaller_update = bigger_update - 1\n",
    "        how_many_get_smaller = (biggest_bank_size - (how_many_get_bigger * bigger_update)) / smaller_update\n",
    "        \n",
    "        for i in range(biggest_bank+1, biggest_bank+how_many_get_bigger+1):\n",
    "            mem_banks[i % len(mem_banks)] += bigger_update\n",
    "            \n",
    "        for i in range(biggest_bank+how_many_get_bigger+1, biggest_bank+how_many_get_bigger+1+how_many_get_smaller):\n",
    "            mem_banks[i % len(mem_banks)] += smaller_update\n",
    "            \n",
    "        if tuple(mem_banks) not in configurations:\n",
    "            configurations.append(tuple(mem_banks))\n",
    "        else:\n",
    "            return len(configurations) - configurations.index(tuple(mem_banks))"
   ]
  },
  {
   "cell_type": "code",
   "execution_count": 23,
   "metadata": {},
   "outputs": [
    {
     "name": "stdout",
     "output_type": "stream",
     "text": [
      "4\n"
     ]
    },
    {
     "name": "stderr",
     "output_type": "stream",
     "text": [
      "/home/pocha/libs/anaconda2/lib/python2.7/site-packages/ipykernel/__main__.py:10: RuntimeWarning: divide by zero encountered in long_scalars\n"
     ]
    }
   ],
   "source": [
    "print task_2(np.array([0,2,7,0]))"
   ]
  },
  {
   "cell_type": "code",
   "execution_count": 24,
   "metadata": {},
   "outputs": [
    {
     "name": "stdout",
     "output_type": "stream",
     "text": [
      "1695\n"
     ]
    },
    {
     "name": "stderr",
     "output_type": "stream",
     "text": [
      "/home/pocha/libs/anaconda2/lib/python2.7/site-packages/ipykernel/__main__.py:10: RuntimeWarning: divide by zero encountered in long_scalars\n"
     ]
    }
   ],
   "source": [
    "print task_2(memory_banks)"
   ]
  }
 ],
 "metadata": {
  "kernelspec": {
   "display_name": "Python [default]",
   "language": "python",
   "name": "python2"
  },
  "language_info": {
   "codemirror_mode": {
    "name": "ipython",
    "version": 2
   },
   "file_extension": ".py",
   "mimetype": "text/x-python",
   "name": "python",
   "nbconvert_exporter": "python",
   "pygments_lexer": "ipython2",
   "version": "2.7.13"
  }
 },
 "nbformat": 4,
 "nbformat_minor": 2
}
