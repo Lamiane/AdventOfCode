{
 "cells": [
  {
   "cell_type": "code",
   "execution_count": 11,
   "metadata": {
    "collapsed": true
   },
   "outputs": [],
   "source": [
    "puzzle_input = \"\"\"Generator A starts with 703\n",
    "Generator B starts with 516\"\"\"\n",
    "\n",
    "generator_A = {'start': 703L, 'factor': 16807L, 'modulo': 4}\n",
    "generator_B = {'start': 516L, 'factor': 48271L, 'modulo': 8}\n",
    "\n",
    "debug_generator_A = {'start': 65L, 'factor': 16807L, 'modulo': 4}\n",
    "debug_generator_B = {'start': 8921L, 'factor': 48271L, 'modulo': 8}\n",
    "\n",
    "def generate_1(start, factor, **kwargs):\n",
    "    divider = 2147483647L\n",
    "    current = start\n",
    "    length = 32\n",
    "    num_of_bits_for_judge = 16\n",
    "    while True:\n",
    "        current = (current * factor) % divider\n",
    "        binary = str(bin(current)).split('b')[1]        \n",
    "        num_of_zeros = num_of_bits_for_judge - len(binary)\n",
    "        yield ''.join((num_of_zeros*'0', binary))[-num_of_bits_for_judge:]\n",
    "\n",
    "\n",
    "def generate_2(start, factor, modulo):\n",
    "    divider = 2147483647L\n",
    "    current = start\n",
    "    length = 32\n",
    "    num_of_bits_for_judge = 16\n",
    "    while True:\n",
    "        current = (current * factor) % divider\n",
    "        while (current % modulo) != 0:\n",
    "            current = (current * factor) % divider\n",
    "        binary = str(bin(current)).split('b')[1]        \n",
    "        num_of_zeros = num_of_bits_for_judge - len(binary)\n",
    "        yield ''.join((num_of_zeros*'0', binary))[-num_of_bits_for_judge:]\n",
    "\n",
    "\n",
    "def task_1_2(genA, genB, num_of_trials):\n",
    "    num_of_matches = 0\n",
    "    for i in xrange(num_of_trials):\n",
    "        a = genA.next()\n",
    "        b = genB.next()\n",
    "        if a==b:\n",
    "            num_of_matches += 1\n",
    "    return num_of_matches"
   ]
  },
  {
   "cell_type": "code",
   "execution_count": 9,
   "metadata": {},
   "outputs": [
    {
     "name": "stdout",
     "output_type": "stream",
     "text": [
      "1\n",
      "594\n"
     ]
    }
   ],
   "source": [
    "print task_1_2(generate_1(**debug_generator_A), generate_1(**debug_generator_B), 5)\n",
    "print task_1_2(generate_1(**generator_A), generate_1(**generator_B), 40*10**6)"
   ]
  },
  {
   "cell_type": "code",
   "execution_count": 12,
   "metadata": {},
   "outputs": [
    {
     "name": "stdout",
     "output_type": "stream",
     "text": [
      "1\n",
      "309\n",
      "328\n"
     ]
    }
   ],
   "source": [
    "print task_1_2(generate_2(**debug_generator_A), generate_2(**debug_generator_B), 1060)\n",
    "print task_1_2(generate_2(**debug_generator_A), generate_2(**debug_generator_B), 5*10**6)\n",
    "print task_1_2(generate_2(**generator_A), generate_2(**generator_B), 5*10**6)"
   ]
  },
  {
   "cell_type": "code",
   "execution_count": null,
   "metadata": {
    "collapsed": true
   },
   "outputs": [],
   "source": []
  }
 ],
 "metadata": {
  "kernelspec": {
   "display_name": "Python [default]",
   "language": "python",
   "name": "python2"
  },
  "language_info": {
   "codemirror_mode": {
    "name": "ipython",
    "version": 2
   },
   "file_extension": ".py",
   "mimetype": "text/x-python",
   "name": "python",
   "nbconvert_exporter": "python",
   "pygments_lexer": "ipython2",
   "version": "2.7.13"
  }
 },
 "nbformat": 4,
 "nbformat_minor": 2
}
