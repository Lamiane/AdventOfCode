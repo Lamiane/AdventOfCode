{
 "cells": [
  {
   "cell_type": "code",
   "execution_count": 5,
   "metadata": {
    "collapsed": true
   },
   "outputs": [],
   "source": [
    "import re"
   ]
  },
  {
   "cell_type": "code",
   "execution_count": 14,
   "metadata": {},
   "outputs": [],
   "source": [
    "with open('day09.txt', 'r') as f:\n",
    "    stream = f.read()"
   ]
  },
  {
   "cell_type": "code",
   "execution_count": 19,
   "metadata": {
    "collapsed": true
   },
   "outputs": [],
   "source": [
    "def clean_stream(s):\n",
    "    s = re.sub(pattern='!.', string=s, repl='')  # remove !.\n",
    "    s = re.sub(pattern='<.*?>', string=s, repl='') # remove garbage (if something does not work it is this line)\n",
    "    return s"
   ]
  },
  {
   "cell_type": "code",
   "execution_count": 20,
   "metadata": {},
   "outputs": [],
   "source": [
    "def task_1(s):\n",
    "    s = clean_stream(s)\n",
    "    counter = 0\n",
    "    temp_counter = 0\n",
    "    for character in s:\n",
    "        if character == '{':\n",
    "            temp_counter+=1\n",
    "        elif character == '}':\n",
    "            counter+=temp_counter\n",
    "            temp_counter-=1\n",
    "        elif character==',':\n",
    "            pass\n",
    "        else:\n",
    "            raise ValueError\n",
    "    assert temp_counter==0, 'temp counter is not zero, something went wrong!'\n",
    "    return counter"
   ]
  },
  {
   "cell_type": "code",
   "execution_count": 21,
   "metadata": {
    "collapsed": true
   },
   "outputs": [],
   "source": [
    "d1 = \"{{<ab>},{<ab>},{<ab>},{<ab>}}\"\n",
    "d2 = \"{{<!!>},{<!!>},{<!!>},{<!!>}}\"\n",
    "d3 = \"{{<a!>},{<a!>},{<a!>},{<ab>}}\""
   ]
  },
  {
   "cell_type": "code",
   "execution_count": 22,
   "metadata": {},
   "outputs": [
    {
     "name": "stdout",
     "output_type": "stream",
     "text": [
      "9\n",
      "9\n",
      "3\n"
     ]
    }
   ],
   "source": [
    "print task_1(d1)\n",
    "print task_1(d2)\n",
    "print task_1(d3)"
   ]
  },
  {
   "cell_type": "code",
   "execution_count": 23,
   "metadata": {},
   "outputs": [
    {
     "name": "stdout",
     "output_type": "stream",
     "text": [
      "15922\n"
     ]
    }
   ],
   "source": [
    "print task_1(stream)"
   ]
  },
  {
   "cell_type": "code",
   "execution_count": 37,
   "metadata": {},
   "outputs": [],
   "source": [
    "def task_2(s):\n",
    "    s = re.sub(pattern='!.', string=s, repl='')  # remove !.\n",
    "    length_before = len(s)\n",
    "    s, how_many_pieces_of_garbage = re.subn(pattern='<.*?>', string=s, repl='')\n",
    "    length_after = len(s)\n",
    "    garbage_length = length_before - length_after - 2*how_many_pieces_of_garbage\n",
    "    return garbage_length"
   ]
  },
  {
   "cell_type": "code",
   "execution_count": 38,
   "metadata": {
    "collapsed": true
   },
   "outputs": [],
   "source": [
    "d1 = \"<random characters>\"\n",
    "d2 = \"<{!>}>\"\n",
    "d3 = \"<{o\\\"i!a,<{i<a>\""
   ]
  },
  {
   "cell_type": "code",
   "execution_count": 39,
   "metadata": {},
   "outputs": [
    {
     "name": "stdout",
     "output_type": "stream",
     "text": [
      "17\n",
      "2\n",
      "10\n"
     ]
    }
   ],
   "source": [
    "print task_2(d1)\n",
    "print task_2(d2)\n",
    "print task_2(d3)"
   ]
  },
  {
   "cell_type": "code",
   "execution_count": 40,
   "metadata": {},
   "outputs": [
    {
     "name": "stdout",
     "output_type": "stream",
     "text": [
      "7314\n"
     ]
    }
   ],
   "source": [
    "print task_2(stream)"
   ]
  },
  {
   "cell_type": "code",
   "execution_count": null,
   "metadata": {
    "collapsed": true
   },
   "outputs": [],
   "source": []
  }
 ],
 "metadata": {
  "kernelspec": {
   "display_name": "Python [default]",
   "language": "python",
   "name": "python2"
  },
  "language_info": {
   "codemirror_mode": {
    "name": "ipython",
    "version": 2
   },
   "file_extension": ".py",
   "mimetype": "text/x-python",
   "name": "python",
   "nbconvert_exporter": "python",
   "pygments_lexer": "ipython2",
   "version": "2.7.13"
  }
 },
 "nbformat": 4,
 "nbformat_minor": 2
}
