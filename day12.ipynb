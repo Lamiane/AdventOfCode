{
 "cells": [
  {
   "cell_type": "code",
   "execution_count": 9,
   "metadata": {
    "collapsed": true
   },
   "outputs": [],
   "source": [
    "with open('day12.txt', 'r') as f:\n",
    "    pipes = f.read()"
   ]
  },
  {
   "cell_type": "code",
   "execution_count": 66,
   "metadata": {
    "collapsed": true
   },
   "outputs": [],
   "source": [
    "def task_1(p):\n",
    "    connections = {}\n",
    "    for line in p.split('\\n'):\n",
    "        host, guests = line.split('<->')\n",
    "        host = host.strip()\n",
    "        connections[host] = {}\n",
    "        connections[host]['guests'] = []\n",
    "        for g in guests.split(','):\n",
    "            connections[host]['guests'].append(g.strip())\n",
    "    \n",
    "#     print sorted(connections.keys())\n",
    "    def traverse_and_count(person, counter):\n",
    "        if 'visited' not in connections[person]:\n",
    "            counter +=1\n",
    "            connections[person]['visited'] = True\n",
    "            for friend in connections[person]['guests']:\n",
    "                counter = traverse_and_count(friend, counter)\n",
    "        return counter\n",
    "    \n",
    "    return traverse_and_count('0', 0)"
   ]
  },
  {
   "cell_type": "code",
   "execution_count": 67,
   "metadata": {},
   "outputs": [
    {
     "data": {
      "text/plain": [
       "145"
      ]
     },
     "execution_count": 67,
     "metadata": {},
     "output_type": "execute_result"
    }
   ],
   "source": [
    "task_1(pipes)"
   ]
  },
  {
   "cell_type": "code",
   "execution_count": 70,
   "metadata": {
    "collapsed": true
   },
   "outputs": [],
   "source": [
    "def task_2(p):\n",
    "    connections = {}\n",
    "    for line in p.split('\\n'):\n",
    "        host, guests = line.split('<->')\n",
    "        host = host.strip()\n",
    "        connections[host] = {}\n",
    "        connections[host]['guests'] = []\n",
    "        for g in guests.split(','):\n",
    "            connections[host]['guests'].append(g.strip())\n",
    "    \n",
    "#     print sorted(connections.keys())\n",
    "    def traverse_and_answer(person):\n",
    "        if 'visited' not in connections[person]:\n",
    "            connections[person]['visited'] = True\n",
    "            for friend in connections[person]['guests']:\n",
    "                traverse_and_answer(friend)\n",
    "            return True    \n",
    "        return False\n",
    "    \n",
    "    counter = 0\n",
    "    for i in connections.keys():\n",
    "        if traverse_and_answer(str(i)):\n",
    "            counter += 1\n",
    "    return counter"
   ]
  },
  {
   "cell_type": "code",
   "execution_count": 71,
   "metadata": {},
   "outputs": [
    {
     "data": {
      "text/plain": [
       "207"
      ]
     },
     "execution_count": 71,
     "metadata": {},
     "output_type": "execute_result"
    }
   ],
   "source": [
    "task_2(pipes)"
   ]
  },
  {
   "cell_type": "code",
   "execution_count": null,
   "metadata": {
    "collapsed": true
   },
   "outputs": [],
   "source": []
  }
 ],
 "metadata": {
  "kernelspec": {
   "display_name": "Python [default]",
   "language": "python",
   "name": "python2"
  },
  "language_info": {
   "codemirror_mode": {
    "name": "ipython",
    "version": 2
   },
   "file_extension": ".py",
   "mimetype": "text/x-python",
   "name": "python",
   "nbconvert_exporter": "python",
   "pygments_lexer": "ipython2",
   "version": "2.7.13"
  }
 },
 "nbformat": 4,
 "nbformat_minor": 2
}
