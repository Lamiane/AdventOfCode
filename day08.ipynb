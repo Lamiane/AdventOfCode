{
 "cells": [
  {
   "cell_type": "code",
   "execution_count": 24,
   "metadata": {
    "collapsed": true
   },
   "outputs": [],
   "source": [
    "with open('day08.txt', 'r') as f:\n",
    "    instr = f.read()"
   ]
  },
  {
   "cell_type": "code",
   "execution_count": 17,
   "metadata": {
    "collapsed": true
   },
   "outputs": [],
   "source": [
    "def task_1(instructions):\n",
    "    registers = {}\n",
    "    for instruction in instructions.split('\\n'):\n",
    "        reg, op, val, _, reg_con, rel_con, val_con = instruction.split(' ')\n",
    "        if reg not in registers:\n",
    "            registers[reg] = 0\n",
    "        if reg_con not in registers:\n",
    "            registers[reg_con] = 0\n",
    "        \n",
    "        condition = ''.join((\"registers['\", reg_con, \"']\", rel_con, val_con))\n",
    "        if eval(condition):\n",
    "            if op == 'inc':\n",
    "                registers[reg] += int(val)\n",
    "            elif op == 'dec':\n",
    "                registers[reg] -= int(val)\n",
    "            else:\n",
    "                print instruction\n",
    "                raise ValueError\n",
    "    return max(registers.values())"
   ]
  },
  {
   "cell_type": "code",
   "execution_count": 18,
   "metadata": {
    "collapsed": true
   },
   "outputs": [],
   "source": [
    "debug = \"\"\"b inc 5 if a > 1\n",
    "a inc 1 if b < 5\n",
    "c dec -10 if a >= 1\n",
    "c inc -20 if c == 10\"\"\""
   ]
  },
  {
   "cell_type": "code",
   "execution_count": 19,
   "metadata": {},
   "outputs": [
    {
     "name": "stdout",
     "output_type": "stream",
     "text": [
      "1\n"
     ]
    }
   ],
   "source": [
    "print task_1(debug)"
   ]
  },
  {
   "cell_type": "code",
   "execution_count": 25,
   "metadata": {},
   "outputs": [
    {
     "name": "stdout",
     "output_type": "stream",
     "text": [
      "3880\n"
     ]
    }
   ],
   "source": [
    "print task_1(instr)"
   ]
  },
  {
   "cell_type": "code",
   "execution_count": 26,
   "metadata": {
    "collapsed": true
   },
   "outputs": [],
   "source": [
    "def task_2(instructions):\n",
    "    registers = {}\n",
    "    maximal_value = 0  # small enough\n",
    "    for instruction in instructions.split('\\n'):\n",
    "        reg, op, val, _, reg_con, rel_con, val_con = instruction.split(' ')\n",
    "        if reg not in registers:\n",
    "            registers[reg] = 0\n",
    "        if reg_con not in registers:\n",
    "            registers[reg_con] = 0\n",
    "        \n",
    "        condition = ''.join((\"registers['\", reg_con, \"']\", rel_con, val_con))\n",
    "        if eval(condition):\n",
    "            if op == 'inc':\n",
    "                registers[reg] += int(val)\n",
    "            elif op == 'dec':\n",
    "                registers[reg] -= int(val)\n",
    "            else:\n",
    "                print instruction\n",
    "                raise ValueError\n",
    "            if registers[reg] > maximal_value:\n",
    "                maximal_value = registers[reg]\n",
    "    return maximal_value"
   ]
  },
  {
   "cell_type": "code",
   "execution_count": 27,
   "metadata": {},
   "outputs": [
    {
     "name": "stdout",
     "output_type": "stream",
     "text": [
      "10\n"
     ]
    }
   ],
   "source": [
    "print task_2(debug)"
   ]
  },
  {
   "cell_type": "code",
   "execution_count": 29,
   "metadata": {},
   "outputs": [
    {
     "name": "stdout",
     "output_type": "stream",
     "text": [
      "5035\n"
     ]
    }
   ],
   "source": [
    "print task_2(instr)"
   ]
  },
  {
   "cell_type": "code",
   "execution_count": null,
   "metadata": {
    "collapsed": true
   },
   "outputs": [],
   "source": []
  }
 ],
 "metadata": {
  "kernelspec": {
   "display_name": "Python [default]",
   "language": "python",
   "name": "python2"
  },
  "language_info": {
   "codemirror_mode": {
    "name": "ipython",
    "version": 2
   },
   "file_extension": ".py",
   "mimetype": "text/x-python",
   "name": "python",
   "nbconvert_exporter": "python",
   "pygments_lexer": "ipython2",
   "version": "2.7.13"
  }
 },
 "nbformat": 4,
 "nbformat_minor": 2
}
