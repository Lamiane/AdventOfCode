{
 "cells": [
  {
   "cell_type": "code",
   "execution_count": 1,
   "metadata": {
    "collapsed": true
   },
   "outputs": [],
   "source": [
    "puzzle_input = [199,0,255,136,174,254,227,16,51,85,1,2,22,17,7,192]\n",
    "puzzle_input_as_string = \"199,0,255,136,174,254,227,16,51,85,1,2,22,17,7,192\""
   ]
  },
  {
   "cell_type": "code",
   "execution_count": 54,
   "metadata": {
    "collapsed": true
   },
   "outputs": [],
   "source": [
    "def task_1(inp, numbers = range(0, 256)):\n",
    "    skip_size = 0\n",
    "    current_index = 0\n",
    "    for length in inp:\n",
    "        start = current_index\n",
    "        stop = (current_index + length) % len(numbers)\n",
    "        if current_index + length >= len(numbers):\n",
    "            to_put = list(reversed(numbers[current_index:] + numbers[:stop]))\n",
    "            dividing_index = len(numbers) - current_index\n",
    "            numbers[current_index:] = to_put[:dividing_index]\n",
    "            numbers[:stop] = to_put[dividing_index:]\n",
    "        else:\n",
    "            to_put = list(reversed(numbers[current_index:stop]))\n",
    "            numbers[start:stop] = to_put\n",
    "        \n",
    "        current_index = (current_index + skip_size + length) % len(numbers)\n",
    "        skip_size  = (skip_size + 1) % len(numbers)\n",
    "#         print numbers, 'current_index', current_index\n",
    "    return numbers[0]*numbers[1]"
   ]
  },
  {
   "cell_type": "code",
   "execution_count": 55,
   "metadata": {
    "collapsed": true
   },
   "outputs": [],
   "source": [
    "d1_lengths = [3, 4, 1, 5]\n",
    "d1_numbers = [0, 1, 2, 3, 4]"
   ]
  },
  {
   "cell_type": "code",
   "execution_count": 56,
   "metadata": {},
   "outputs": [
    {
     "data": {
      "text/plain": [
       "12"
      ]
     },
     "execution_count": 56,
     "metadata": {},
     "output_type": "execute_result"
    }
   ],
   "source": [
    "task_1(d1_lengths, d1_numbers)"
   ]
  },
  {
   "cell_type": "code",
   "execution_count": 57,
   "metadata": {},
   "outputs": [
    {
     "data": {
      "text/plain": [
       "3770"
      ]
     },
     "execution_count": 57,
     "metadata": {},
     "output_type": "execute_result"
    }
   ],
   "source": [
    "task_1(puzzle_input)"
   ]
  },
  {
   "cell_type": "code",
   "execution_count": 8,
   "metadata": {},
   "outputs": [],
   "source": [
    "def task_2(inp_as_string, numbers = range(0, 256)):\n",
    "    additional_lengths = [17, 31, 73, 47, 23]\n",
    "    n_rounds = 64\n",
    "    \n",
    "    bytes = [ord(char) for char in inp_as_string] + additional_lengths  # changing to ascii codes and adding numbers at the end\n",
    "    print 'bytes', bytes\n",
    "    skip_size = 0\n",
    "    current_index = 0\n",
    "    for i in range(n_rounds):    \n",
    "        for length in bytes:\n",
    "            start = current_index\n",
    "            stop = (current_index + length) % len(numbers)\n",
    "            if current_index + length >= len(numbers):\n",
    "                to_put = list(reversed(numbers[current_index:] + numbers[:stop]))\n",
    "                dividing_index = len(numbers) - current_index\n",
    "                numbers[current_index:] = to_put[:dividing_index]\n",
    "                numbers[:stop] = to_put[dividing_index:]\n",
    "            else:\n",
    "                to_put = list(reversed(numbers[current_index:stop]))\n",
    "                numbers[start:stop] = to_put\n",
    "\n",
    "            current_index = (current_index + skip_size + length) % len(numbers)\n",
    "            skip_size  = (skip_size + 1) % len(numbers)\n",
    "    print 'numbers', numbers\n",
    "    \n",
    "    dense = []\n",
    "    for i in range(16):\n",
    "        start_index = i*16\n",
    "        end_index = (i+1)*16\n",
    "        xored = reduce((lambda x, y: x ^ y), numbers[start_index:end_index])\n",
    "        dense.append(xored) \n",
    "    print 'dense', dense\n",
    "    \n",
    "    hexadecimal = ''\n",
    "    for i in dense:\n",
    "        hexx = str(hex(i))[2:]\n",
    "        if len(hexx) < 2:\n",
    "            hexx = '0' + hexx\n",
    "        hexadecimal = hexadecimal + hexx            \n",
    "    return hexadecimal"
   ]
  },
  {
   "cell_type": "code",
   "execution_count": 9,
   "metadata": {
    "collapsed": true
   },
   "outputs": [],
   "source": [
    "d1i = \"\"\n",
    "d1a = \"a2582a3a0e66e6e86e3812dcb672a272\"\n",
    "d2i = \"AoC 2017\"\n",
    "d2a = \"33efeb34ea91902bb2f59c9920caa6cd\"\n",
    "d3i = \"1,2,3\"\n",
    "d3a = \"3efbe78a8d82f29979031a4aa0b16a9d\""
   ]
  },
  {
   "cell_type": "code",
   "execution_count": 10,
   "metadata": {},
   "outputs": [
    {
     "name": "stdout",
     "output_type": "stream",
     "text": [
      "bytes [17, 31, 73, 47, 23]\n",
      "numbers [38, 171, 116, 63, 70, 137, 168, 29, 198, 55, 160, 15, 34, 95, 58, 7, 188, 189, 238, 141, 30, 31, 124, 241, 20, 1, 244, 203, 234, 73, 236, 211, 122, 197, 94, 227, 142, 57, 72, 239, 54, 81, 154, 217, 10, 13, 186, 161, 6, 17, 128, 105, 106, 69, 44, 51, 248, 23, 136, 173, 52, 39, 40, 5, 254, 195, 64, 187, 192, 37, 230, 153, 56, 177, 84, 147, 96, 249, 252, 121, 166, 143, 62, 169, 90, 99, 196, 155, 132, 159, 162, 229, 76, 117, 164, 127, 150, 21, 88, 27, 242, 67, 114, 115, 226, 191, 190, 53, 2, 65, 206, 205, 24, 251, 14, 75, 74, 247, 80, 11, 50, 181, 46, 101, 100, 179, 48, 131, 32, 97, 102, 201, 170, 93, 104, 103, 182, 125, 12, 43, 220, 113, 158, 167, 68, 47, 66, 33, 112, 135, 194, 185, 218, 219, 8, 245, 130, 253, 204, 243, 202, 109, 92, 209, 156, 133, 250, 107, 4, 183, 60, 215, 172, 231, 240, 83, 98, 193, 82, 139, 210, 91, 146, 85, 184, 163, 140, 145, 178, 35, 232, 151, 214, 213, 200, 199, 18, 221, 212, 9, 152, 123, 78, 3, 228, 25, 26, 225, 0, 61, 138, 255, 222, 233, 110, 129, 208, 207, 176, 235, 108, 77, 148, 19, 180, 79, 28, 149, 224, 237, 86, 157, 216, 111, 22, 89, 16, 41, 144, 71, 134, 59, 246, 165, 174, 223, 118, 119, 36, 175, 126, 87, 120, 45, 42, 49]\n",
      "dense [162, 88, 42, 58, 14, 102, 230, 232, 110, 56, 18, 220, 182, 114, 162, 114]\n",
      "a2582a3a0e66e6e86e3812dcb672a272\n",
      "a2582a3a0e66e6e86e3812dcb672a272\n",
      "bytes [65, 111, 67, 32, 50, 48, 49, 55, 17, 31, 73, 47, 23]\n",
      "numbers [116, 217, 225, 180, 170, 9, 207, 203, 98, 12, 55, 193, 224, 79, 219, 60, 220, 174, 134, 171, 29, 86, 158, 14, 112, 237, 52, 234, 209, 63, 6, 140, 20, 250, 240, 190, 94, 218, 30, 127, 145, 173, 39, 245, 139, 108, 161, 168, 90, 169, 178, 155, 192, 8, 28, 111, 154, 125, 35, 200, 4, 202, 65, 210, 72, 247, 87, 185, 92, 101, 214, 88, 110, 56, 131, 160, 248, 181, 46, 48, 78, 121, 223, 83, 208, 24, 182, 229, 38, 198, 51, 164, 186, 213, 144, 99, 103, 226, 62, 206, 68, 230, 73, 130, 191, 167, 137, 255, 33, 57, 129, 37, 123, 106, 172, 45, 32, 204, 254, 70, 77, 187, 238, 36, 53, 239, 107, 64, 233, 253, 66, 215, 205, 142, 179, 117, 235, 183, 71, 25, 221, 128, 252, 195, 95, 100, 93, 159, 74, 27, 80, 40, 147, 150, 5, 157, 201, 69, 184, 126, 67, 163, 175, 138, 177, 222, 47, 84, 15, 153, 232, 102, 43, 85, 151, 148, 196, 31, 194, 119, 54, 244, 13, 249, 141, 135, 241, 41, 42, 242, 149, 16, 231, 109, 114, 113, 89, 96, 197, 120, 49, 75, 26, 176, 165, 216, 246, 228, 166, 115, 3, 132, 58, 105, 61, 104, 19, 152, 236, 133, 199, 97, 0, 136, 18, 76, 82, 162, 44, 81, 2, 251, 17, 7, 188, 23, 212, 34, 211, 124, 243, 21, 143, 22, 91, 59, 146, 227, 118, 50, 10, 11, 1, 189, 122, 156]\n",
      "dense [143, 163, 69, 48, 192, 203, 206, 9, 100, 7, 180, 215, 178, 152, 206, 113]\n",
      "8fa34530c0cbce096407b4d7b298ce71\n",
      "33efeb34ea91902bb2f59c9920caa6cd\n",
      "bytes [49, 44, 50, 44, 51, 17, 31, 73, 47, 23]\n",
      "numbers [9, 193, 99, 65, 230, 98, 122, 210, 155, 96, 157, 140, 177, 149, 159, 207, 102, 62, 171, 29, 160, 126, 114, 228, 50, 164, 76, 46, 100, 2, 254, 18, 83, 229, 35, 91, 53, 21, 215, 75, 203, 172, 243, 165, 87, 168, 178, 1, 176, 105, 183, 64, 139, 222, 191, 188, 134, 237, 32, 85, 187, 115, 150, 71, 124, 79, 111, 69, 214, 242, 198, 89, 235, 22, 34, 3, 10, 146, 166, 200, 132, 104, 78, 145, 110, 117, 20, 28, 202, 86, 220, 211, 30, 181, 240, 141, 209, 67, 60, 244, 44, 130, 121, 81, 103, 218, 224, 152, 97, 94, 247, 23, 36, 57, 148, 41, 120, 197, 125, 106, 72, 116, 135, 217, 47, 147, 7, 189, 70, 185, 245, 195, 182, 16, 162, 27, 107, 167, 248, 93, 143, 77, 153, 201, 19, 175, 112, 133, 109, 253, 144, 90, 169, 55, 190, 223, 48, 151, 173, 158, 26, 33, 6, 45, 80, 5, 174, 38, 4, 52, 216, 74, 119, 233, 59, 108, 11, 252, 131, 73, 246, 13, 68, 180, 137, 154, 14, 206, 51, 0, 225, 43, 56, 184, 186, 163, 39, 213, 194, 128, 82, 49, 12, 250, 249, 54, 88, 205, 199, 212, 42, 219, 113, 179, 231, 37, 15, 241, 238, 129, 101, 31, 58, 156, 123, 234, 138, 236, 239, 66, 142, 118, 25, 170, 84, 208, 204, 92, 95, 127, 61, 40, 232, 221, 24, 251, 63, 226, 161, 227, 192, 196, 8, 255, 17, 136]\n",
      "dense [88, 216, 15, 127, 136, 101, 198, 110, 45, 120, 166, 28, 230, 175, 37, 54]\n",
      "58d80f7f8865c66e2d78a61ce6af2536\n",
      "3efbe78a8d82f29979031a4aa0b16a9d\n"
     ]
    }
   ],
   "source": [
    "print task_2(d1i)\n",
    "print d1a\n",
    "print task_2(d2i)\n",
    "print d2a\n",
    "print task_2(d3i)\n",
    "print d3a"
   ]
  },
  {
   "cell_type": "code",
   "execution_count": null,
   "metadata": {
    "collapsed": true
   },
   "outputs": [],
   "source": []
  },
  {
   "cell_type": "code",
   "execution_count": null,
   "metadata": {
    "collapsed": true
   },
   "outputs": [],
   "source": []
  },
  {
   "cell_type": "code",
   "execution_count": 64,
   "metadata": {},
   "outputs": [
    {
     "name": "stdout",
     "output_type": "stream",
     "text": [
      "[49, 44, 50, 44, 51]\n",
      "['1', ',', '2', ',', '3']\n"
     ]
    }
   ],
   "source": [
    "s = '1,2,3'\n",
    "rev = [ord(char) for char in s]\n",
    "print rev\n",
    "print [chr(r) for r in rev]\n",
    "\n",
    "additional_length = [17, 31, 73, 47, 23]\n",
    "n_rounds = 64\n",
    "# The current position and skip size should be preserved between rounds.\n",
    "# sprase -> dense hash\n",
    "# dense -> hexadecimal\n",
    "# Treating your puzzle input as a string of ASCII characters"
   ]
  },
  {
   "cell_type": "code",
   "execution_count": 4,
   "metadata": {},
   "outputs": [
    {
     "data": {
      "text/plain": [
       "'0x32'"
      ]
     },
     "execution_count": 4,
     "metadata": {},
     "output_type": "execute_result"
    }
   ],
   "source": [
    "hex(50)"
   ]
  },
  {
   "cell_type": "code",
   "execution_count": null,
   "metadata": {
    "collapsed": true
   },
   "outputs": [],
   "source": [
    "print 'agafia'"
   ]
  },
  {
   "cell_type": "code",
   "execution_count": null,
   "metadata": {
    "collapsed": true
   },
   "outputs": [],
   "source": []
  }
 ],
 "metadata": {
  "kernelspec": {
   "display_name": "Python [default]",
   "language": "python",
   "name": "python2"
  },
  "language_info": {
   "codemirror_mode": {
    "name": "ipython",
    "version": 2
   },
   "file_extension": ".py",
   "mimetype": "text/x-python",
   "name": "python",
   "nbconvert_exporter": "python",
   "pygments_lexer": "ipython2",
   "version": "2.7.13"
  }
 },
 "nbformat": 4,
 "nbformat_minor": 2
}
